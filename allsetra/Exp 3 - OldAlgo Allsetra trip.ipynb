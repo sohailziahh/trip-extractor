{
 "cells": [
  {
   "cell_type": "code",
   "execution_count": 92,
   "id": "bdacadb1",
   "metadata": {},
   "outputs": [],
   "source": [
    "import pandas as pd\n",
    "from datetime import timedelta\n",
    "from datetime import datetime\n"
   ]
  },
  {
   "cell_type": "code",
   "execution_count": 94,
   "id": "d7fbdf65",
   "metadata": {},
   "outputs": [],
   "source": [
    "df = pd.read_excel(\"20230614_204050_Ritregistratie_awgx.xlsx\")"
   ]
  },
  {
   "cell_type": "code",
   "execution_count": 95,
   "id": "62350cb1",
   "metadata": {},
   "outputs": [
    {
     "data": {
      "text/html": [
       "<div>\n",
       "<style scoped>\n",
       "    .dataframe tbody tr th:only-of-type {\n",
       "        vertical-align: middle;\n",
       "    }\n",
       "\n",
       "    .dataframe tbody tr th {\n",
       "        vertical-align: top;\n",
       "    }\n",
       "\n",
       "    .dataframe thead th {\n",
       "        text-align: right;\n",
       "    }\n",
       "</style>\n",
       "<table border=\"1\" class=\"dataframe\">\n",
       "  <thead>\n",
       "    <tr style=\"text-align: right;\">\n",
       "      <th></th>\n",
       "      <th>Unit</th>\n",
       "      <th>Voertuig</th>\n",
       "      <th>Kenteken</th>\n",
       "      <th>Rit</th>\n",
       "      <th>Starttijd</th>\n",
       "      <th>Einddtijd</th>\n",
       "      <th>Chauffeur</th>\n",
       "      <th>Karakter</th>\n",
       "      <th>Van</th>\n",
       "      <th>Naar</th>\n",
       "      <th>Begin kmstand</th>\n",
       "      <th>Eind kmstand</th>\n",
       "      <th>Afstand (km)</th>\n",
       "      <th>Ritduur</th>\n",
       "      <th>Opmerking</th>\n",
       "    </tr>\n",
       "  </thead>\n",
       "  <tbody>\n",
       "    <tr>\n",
       "      <th>0</th>\n",
       "      <td>3255812</td>\n",
       "      <td>SKODA KAMIQ L567KS</td>\n",
       "      <td>L567KS</td>\n",
       "      <td>2188</td>\n",
       "      <td>2023-04-01 09:19:55</td>\n",
       "      <td>2023-04-01 09:26:54</td>\n",
       "      <td>NaN</td>\n",
       "      <td>Zakelijk</td>\n",
       "      <td>Onbekend</td>\n",
       "      <td>Heereweg 44, 8891HT Midsland, Nederland</td>\n",
       "      <td>70140.9</td>\n",
       "      <td>70142.5</td>\n",
       "      <td>1.6</td>\n",
       "      <td>00:06:58</td>\n",
       "      <td>NaN</td>\n",
       "    </tr>\n",
       "    <tr>\n",
       "      <th>1</th>\n",
       "      <td>3255812</td>\n",
       "      <td>SKODA KAMIQ L567KS</td>\n",
       "      <td>L567KS</td>\n",
       "      <td>2189</td>\n",
       "      <td>2023-04-01 11:06:39</td>\n",
       "      <td>2023-04-01 11:11:33</td>\n",
       "      <td>NaN</td>\n",
       "      <td>Zakelijk</td>\n",
       "      <td>Heereweg 44, 8891HT Midsland, Nederland</td>\n",
       "      <td>Duinweg Midsland 93-95, 8891 Midsland, Nederland</td>\n",
       "      <td>70142.5</td>\n",
       "      <td>70143.6</td>\n",
       "      <td>1.1</td>\n",
       "      <td>00:04:53</td>\n",
       "      <td>NaN</td>\n",
       "    </tr>\n",
       "    <tr>\n",
       "      <th>2</th>\n",
       "      <td>3255812</td>\n",
       "      <td>SKODA KAMIQ L567KS</td>\n",
       "      <td>L567KS</td>\n",
       "      <td>2190</td>\n",
       "      <td>2023-04-01 12:19:04</td>\n",
       "      <td>2023-04-01 12:26:22</td>\n",
       "      <td>NaN</td>\n",
       "      <td>Zakelijk</td>\n",
       "      <td>Duinweg Midsland 93-95, 8891 Midsland, Nederland</td>\n",
       "      <td>Formerum 22, 8894KE Formerum, Nederland</td>\n",
       "      <td>70143.6</td>\n",
       "      <td>70147.0</td>\n",
       "      <td>3.4</td>\n",
       "      <td>00:07:18</td>\n",
       "      <td>NaN</td>\n",
       "    </tr>\n",
       "    <tr>\n",
       "      <th>3</th>\n",
       "      <td>3255812</td>\n",
       "      <td>SKODA KAMIQ L567KS</td>\n",
       "      <td>L567KS</td>\n",
       "      <td>2191</td>\n",
       "      <td>2023-04-01 12:37:27</td>\n",
       "      <td>2023-04-01 12:44:20</td>\n",
       "      <td>NaN</td>\n",
       "      <td>Zakelijk</td>\n",
       "      <td>Formerum 22, 8894KE Formerum, Nederland</td>\n",
       "      <td>Duinweg Midsland 93-95, 8891 Midsland, Nederland</td>\n",
       "      <td>70147.0</td>\n",
       "      <td>70150.4</td>\n",
       "      <td>3.4</td>\n",
       "      <td>00:06:52</td>\n",
       "      <td>NaN</td>\n",
       "    </tr>\n",
       "    <tr>\n",
       "      <th>4</th>\n",
       "      <td>3255812</td>\n",
       "      <td>SKODA KAMIQ L567KS</td>\n",
       "      <td>L567KS</td>\n",
       "      <td>2192</td>\n",
       "      <td>2023-04-01 14:46:50</td>\n",
       "      <td>2023-04-01 14:52:03</td>\n",
       "      <td>NaN</td>\n",
       "      <td>Zakelijk</td>\n",
       "      <td>Duinweg Midsland 93-95, 8891 Midsland, Nederland</td>\n",
       "      <td>Midsland aan Zee 395-397, 8891HV Midsland, Ned...</td>\n",
       "      <td>70150.4</td>\n",
       "      <td>70152.8</td>\n",
       "      <td>2.4</td>\n",
       "      <td>00:05:12</td>\n",
       "      <td>NaN</td>\n",
       "    </tr>\n",
       "  </tbody>\n",
       "</table>\n",
       "</div>"
      ],
      "text/plain": [
       "      Unit            Voertuig Kenteken   Rit            Starttijd  \\\n",
       "0  3255812  SKODA KAMIQ L567KS   L567KS  2188  2023-04-01 09:19:55   \n",
       "1  3255812  SKODA KAMIQ L567KS   L567KS  2189  2023-04-01 11:06:39   \n",
       "2  3255812  SKODA KAMIQ L567KS   L567KS  2190  2023-04-01 12:19:04   \n",
       "3  3255812  SKODA KAMIQ L567KS   L567KS  2191  2023-04-01 12:37:27   \n",
       "4  3255812  SKODA KAMIQ L567KS   L567KS  2192  2023-04-01 14:46:50   \n",
       "\n",
       "             Einddtijd  Chauffeur  Karakter  \\\n",
       "0  2023-04-01 09:26:54        NaN  Zakelijk   \n",
       "1  2023-04-01 11:11:33        NaN  Zakelijk   \n",
       "2  2023-04-01 12:26:22        NaN  Zakelijk   \n",
       "3  2023-04-01 12:44:20        NaN  Zakelijk   \n",
       "4  2023-04-01 14:52:03        NaN  Zakelijk   \n",
       "\n",
       "                                                Van  \\\n",
       "0                                          Onbekend   \n",
       "1           Heereweg 44, 8891HT Midsland, Nederland   \n",
       "2  Duinweg Midsland 93-95, 8891 Midsland, Nederland   \n",
       "3           Formerum 22, 8894KE Formerum, Nederland   \n",
       "4  Duinweg Midsland 93-95, 8891 Midsland, Nederland   \n",
       "\n",
       "                                                Naar  Begin kmstand  \\\n",
       "0            Heereweg 44, 8891HT Midsland, Nederland        70140.9   \n",
       "1   Duinweg Midsland 93-95, 8891 Midsland, Nederland        70142.5   \n",
       "2            Formerum 22, 8894KE Formerum, Nederland        70143.6   \n",
       "3   Duinweg Midsland 93-95, 8891 Midsland, Nederland        70147.0   \n",
       "4  Midsland aan Zee 395-397, 8891HV Midsland, Ned...        70150.4   \n",
       "\n",
       "   Eind kmstand  Afstand (km)   Ritduur Opmerking  \n",
       "0       70142.5           1.6  00:06:58       NaN  \n",
       "1       70143.6           1.1  00:04:53       NaN  \n",
       "2       70147.0           3.4  00:07:18       NaN  \n",
       "3       70150.4           3.4  00:06:52       NaN  \n",
       "4       70152.8           2.4  00:05:12       NaN  "
      ]
     },
     "execution_count": 95,
     "metadata": {},
     "output_type": "execute_result"
    }
   ],
   "source": [
    "df.head()"
   ]
  },
  {
   "cell_type": "code",
   "execution_count": 96,
   "id": "d62e5fae",
   "metadata": {},
   "outputs": [],
   "source": [
    "df = df.rename(columns={\"Ritduur\":\"trip_duration\", \"Afstand (km)\":\"trip_distance_in_km\", \"Van\":\"start_gps_point\", \"Naar\":\"end_gps_point\", \"Starttijd\":\"start_trip_time\", \"Einddtijd\":\"end_trip_time\"}   )      "
   ]
  },
  {
   "cell_type": "code",
   "execution_count": 97,
   "id": "fe5d6226",
   "metadata": {},
   "outputs": [],
   "source": [
    "df = df[[\"start_trip_time\", \"end_trip_time\", \"start_gps_point\", \"end_gps_point\", \"trip_distance_in_km\", \"trip_duration\"]]"
   ]
  },
  {
   "cell_type": "code",
   "execution_count": null,
   "id": "01a60341",
   "metadata": {},
   "outputs": [],
   "source": []
  },
  {
   "cell_type": "code",
   "execution_count": 88,
   "id": "bd90afef",
   "metadata": {
    "scrolled": false
   },
   "outputs": [],
   "source": [
    "df[\"trip_duration\"] = pd.to_datetime(df[\"trip_duration\"])"
   ]
  },
  {
   "cell_type": "code",
   "execution_count": 89,
   "id": "15a5d240",
   "metadata": {},
   "outputs": [
    {
     "data": {
      "text/plain": [
       "0     1970-01-01 00:00:00.000000058\n",
       "1     1970-01-01 00:00:00.000000053\n",
       "2     1970-01-01 00:00:00.000000018\n",
       "3     1970-01-01 00:00:00.000000052\n",
       "4     1970-01-01 00:00:00.000000012\n",
       "                   ...             \n",
       "336   1970-01-01 00:00:00.000000050\n",
       "337   1970-01-01 00:00:00.000000056\n",
       "338   1970-01-01 00:00:00.000000011\n",
       "339   1970-01-01 00:00:00.000000012\n",
       "340   1970-01-01 00:00:00.000000059\n",
       "Name: trip_duration, Length: 341, dtype: datetime64[ns]"
      ]
     },
     "execution_count": 89,
     "metadata": {},
     "output_type": "execute_result"
    }
   ],
   "source": [
    "df[\"trip_duration\"]"
   ]
  },
  {
   "cell_type": "code",
   "execution_count": null,
   "id": "074799cf",
   "metadata": {},
   "outputs": [],
   "source": [
    "\n",
    "timestamp_str = \"00:06:58\"\n",
    "timestamp_obj = datetime.strptime(timestamp_str, \"%H:%M:%S\")\n",
    "total_seconds = timestamp_obj.hour * 3600 + timestamp_obj.minute * 60 + timestamp_obj.second\n",
    "\n",
    "print(total_seconds)  # Output: 418\n"
   ]
  },
  {
   "cell_type": "code",
   "execution_count": 87,
   "id": "b88959ee",
   "metadata": {},
   "outputs": [],
   "source": [
    "def to_seconds(timestamp_str):\n",
    "    timestamp_obj = datetime.strptime(timestamp_str, \"%H:%M:%S\")\n",
    "    total_seconds = timestamp_obj.hour * 3600 + timestamp_obj.minute * 60 + timestamp_obj.second\n",
    "    return total_seconds\n"
   ]
  },
  {
   "cell_type": "code",
   "execution_count": 98,
   "id": "12a5eba3",
   "metadata": {},
   "outputs": [],
   "source": [
    "df[\"trip_duration\"] = df.trip_duration.apply(lambda x: to_seconds(x))\n"
   ]
  },
  {
   "cell_type": "code",
   "execution_count": 99,
   "id": "4854fe3a",
   "metadata": {},
   "outputs": [
    {
     "data": {
      "text/plain": [
       "0       418\n",
       "1       293\n",
       "2       438\n",
       "3       412\n",
       "4       312\n",
       "       ... \n",
       "336    3410\n",
       "337    6236\n",
       "338    1451\n",
       "339    2112\n",
       "340    5279\n",
       "Name: trip_duration, Length: 341, dtype: int64"
      ]
     },
     "execution_count": 99,
     "metadata": {},
     "output_type": "execute_result"
    }
   ],
   "source": [
    "df[\"trip_duration\"]"
   ]
  },
  {
   "cell_type": "code",
   "execution_count": null,
   "id": "02c1d2db",
   "metadata": {},
   "outputs": [],
   "source": []
  },
  {
   "cell_type": "code",
   "execution_count": null,
   "id": "5a5abdb0",
   "metadata": {},
   "outputs": [],
   "source": []
  },
  {
   "cell_type": "code",
   "execution_count": null,
   "id": "4ad0964e",
   "metadata": {},
   "outputs": [],
   "source": []
  }
 ],
 "metadata": {
  "kernelspec": {
   "display_name": "Python 3 (ipykernel)",
   "language": "python",
   "name": "python3"
  },
  "language_info": {
   "codemirror_mode": {
    "name": "ipython",
    "version": 3
   },
   "file_extension": ".py",
   "mimetype": "text/x-python",
   "name": "python",
   "nbconvert_exporter": "python",
   "pygments_lexer": "ipython3",
   "version": "3.10.11"
  }
 },
 "nbformat": 4,
 "nbformat_minor": 5
}
